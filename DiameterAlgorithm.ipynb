{
  "nbformat": 4,
  "nbformat_minor": 0,
  "metadata": {
    "colab": {
      "name": "DiameterAlgorithm.ipynb",
      "provenance": []
    },
    "kernelspec": {
      "name": "python3",
      "display_name": "Python 3"
    },
    "accelerator": "GPU"
  },
  "cells": [
    {
      "cell_type": "code",
      "metadata": {
        "id": "rsQDRZFhG-Bk",
        "colab_type": "code",
        "colab": {}
      },
      "source": [
        "import keras\n",
        "import numpy as np\n",
        "import pandas as pd\n",
        "import sklearn\n",
        "import tabulate\n",
        "import csv\n",
        "import tensorflow as tf\n",
        "import matplotlib.pyplot as plt\n",
        "from sklearn.model_selection import train_test_split\n",
        "from sklearn.model_selection import cross_val_score\n",
        "from sklearn.model_selection import StratifiedKFold\n",
        "from sklearn.model_selection import KFold\n",
        "from keras.models import Sequential\n",
        "from keras.layers import Dense\n",
        "from keras.wrappers.scikit_learn import KerasRegressor\n",
        "from sklearn.model_selection import cross_val_score\n",
        "from sklearn.model_selection import KFold\n",
        "from sklearn.preprocessing import StandardScaler\n",
        "from sklearn.pipeline import Pipeline\n"
      ],
      "execution_count": 1,
      "outputs": []
    },
    {
      "cell_type": "code",
      "metadata": {
        "id": "PEns2ZoVHNI7",
        "colab_type": "code",
        "colab": {}
      },
      "source": [
        "data_path = '/content/drive/My Drive/Extra Curricular/ARG/Aluna Research Admin Group/Hackathons/ml/respiratory_data.csv'\n",
        "names = ['height', 'weight', 'forced_expiratory_volume', 'force_vital_capacity', 'inhaler_usage','oxygen_usage','peak_expiratory_flow_rate','respiratory_rate','diameter']\n",
        "dataset = pd.read_csv(data_path, names=names)"
      ],
      "execution_count": 2,
      "outputs": []
    },
    {
      "cell_type": "code",
      "metadata": {
        "id": "OcMDb9ptMOMu",
        "colab_type": "code",
        "colab": {}
      },
      "source": [
        "#data preprocessing\n",
        "X = dataset.iloc[:,0:8].values"
      ],
      "execution_count": 3,
      "outputs": []
    },
    {
      "cell_type": "code",
      "metadata": {
        "id": "TFuDQfV2Wpfo",
        "colab_type": "code",
        "colab": {}
      },
      "source": [
        "y =  dataset.iloc[:,8].values"
      ],
      "execution_count": 4,
      "outputs": []
    },
    {
      "cell_type": "code",
      "metadata": {
        "id": "Bj7rJwOFiARc",
        "colab_type": "code",
        "colab": {}
      },
      "source": [
        "sc = StandardScaler()\n",
        "X = sc.fit_transform(X)"
      ],
      "execution_count": 5,
      "outputs": []
    },
    {
      "cell_type": "code",
      "metadata": {
        "id": "FhOYShBvhShE",
        "colab_type": "code",
        "colab": {}
      },
      "source": [
        "def diameter_model():\n",
        "  model = Sequential()\n",
        "  model.add(Dense(18, input_dim=8, kernel_initializer='normal', activation='relu'))\n",
        "  model.add(Dense(12, kernel_initializer='normal'))\n",
        "  model.add(Dense(6, kernel_initializer='normal'))\n",
        "  model.add(Dense(1, kernel_initializer='normal'))\n",
        "  model.compile(loss='mean_squared_error', optimizer='adam',metrics=[tf.keras.metrics.RootMeanSquaredError(),tf.keras.metrics.MeanAbsoluteError()])\n",
        "  return model"
      ],
      "execution_count": 6,
      "outputs": []
    },
    {
      "cell_type": "code",
      "metadata": {
        "id": "h8HN3K_ektHJ",
        "colab_type": "code",
        "colab": {}
      },
      "source": [
        "X_train,X_test,y_train,y_test = train_test_split(X,y,test_size = 0.1)"
      ],
      "execution_count": 7,
      "outputs": []
    },
    {
      "cell_type": "code",
      "metadata": {
        "id": "bfrFwqGFkzFM",
        "colab_type": "code",
        "colab": {}
      },
      "source": [
        "model = diameter_model()"
      ],
      "execution_count": 8,
      "outputs": []
    },
    {
      "cell_type": "code",
      "metadata": {
        "id": "jeunzBeSi47i",
        "colab_type": "code",
        "colab": {
          "base_uri": "https://localhost:8080/",
          "height": 547
        },
        "outputId": "95f78e0c-f5a3-43bd-f796-1cdd66a55a7d"
      },
      "source": [
        "history = model.fit(X_train, y_train,validation_data = (X_test,y_test), epochs=15, batch_size=25)"
      ],
      "execution_count": 9,
      "outputs": [
        {
          "output_type": "stream",
          "text": [
            "Epoch 1/15\n",
            "612/612 [==============================] - 1s 2ms/step - loss: 75.9571 - root_mean_squared_error: 8.7153 - mean_absolute_error: 5.9103 - val_loss: 2.7348 - val_root_mean_squared_error: 1.6537 - val_mean_absolute_error: 1.2739\n",
            "Epoch 2/15\n",
            "612/612 [==============================] - 1s 2ms/step - loss: 1.1011 - root_mean_squared_error: 1.0493 - mean_absolute_error: 0.7024 - val_loss: 0.2700 - val_root_mean_squared_error: 0.5196 - val_mean_absolute_error: 0.3491\n",
            "Epoch 3/15\n",
            "612/612 [==============================] - 1s 2ms/step - loss: 0.1372 - root_mean_squared_error: 0.3705 - mean_absolute_error: 0.2266 - val_loss: 0.0507 - val_root_mean_squared_error: 0.2252 - val_mean_absolute_error: 0.1366\n",
            "Epoch 4/15\n",
            "612/612 [==============================] - 1s 2ms/step - loss: 0.0319 - root_mean_squared_error: 0.1785 - mean_absolute_error: 0.1004 - val_loss: 0.0105 - val_root_mean_squared_error: 0.1027 - val_mean_absolute_error: 0.0646\n",
            "Epoch 5/15\n",
            "612/612 [==============================] - 1s 2ms/step - loss: 0.0105 - root_mean_squared_error: 0.1026 - mean_absolute_error: 0.0472 - val_loss: 0.0042 - val_root_mean_squared_error: 0.0647 - val_mean_absolute_error: 0.0422\n",
            "Epoch 6/15\n",
            "612/612 [==============================] - 1s 2ms/step - loss: 0.0044 - root_mean_squared_error: 0.0660 - mean_absolute_error: 0.0291 - val_loss: 0.0011 - val_root_mean_squared_error: 0.0338 - val_mean_absolute_error: 0.0176\n",
            "Epoch 7/15\n",
            "612/612 [==============================] - 1s 2ms/step - loss: 0.0027 - root_mean_squared_error: 0.0522 - mean_absolute_error: 0.0214 - val_loss: 0.0025 - val_root_mean_squared_error: 0.0497 - val_mean_absolute_error: 0.0313\n",
            "Epoch 8/15\n",
            "612/612 [==============================] - 1s 2ms/step - loss: 0.0012 - root_mean_squared_error: 0.0345 - mean_absolute_error: 0.0165 - val_loss: 2.3418e-04 - val_root_mean_squared_error: 0.0153 - val_mean_absolute_error: 0.0077\n",
            "Epoch 9/15\n",
            "612/612 [==============================] - 1s 2ms/step - loss: 0.0013 - root_mean_squared_error: 0.0356 - mean_absolute_error: 0.0157 - val_loss: 1.2390e-04 - val_root_mean_squared_error: 0.0111 - val_mean_absolute_error: 0.0048\n",
            "Epoch 10/15\n",
            "612/612 [==============================] - 1s 2ms/step - loss: 0.0016 - root_mean_squared_error: 0.0399 - mean_absolute_error: 0.0151 - val_loss: 7.3113e-05 - val_root_mean_squared_error: 0.0086 - val_mean_absolute_error: 0.0041\n",
            "Epoch 11/15\n",
            "612/612 [==============================] - 1s 2ms/step - loss: 0.0012 - root_mean_squared_error: 0.0343 - mean_absolute_error: 0.0152 - val_loss: 7.2344e-04 - val_root_mean_squared_error: 0.0269 - val_mean_absolute_error: 0.0212\n",
            "Epoch 12/15\n",
            "612/612 [==============================] - 1s 2ms/step - loss: 3.4562e-04 - root_mean_squared_error: 0.0186 - mean_absolute_error: 0.0084 - val_loss: 0.0020 - val_root_mean_squared_error: 0.0444 - val_mean_absolute_error: 0.0362\n",
            "Epoch 13/15\n",
            "612/612 [==============================] - 1s 2ms/step - loss: 0.0011 - root_mean_squared_error: 0.0326 - mean_absolute_error: 0.0141 - val_loss: 1.9633e-05 - val_root_mean_squared_error: 0.0044 - val_mean_absolute_error: 0.0027\n",
            "Epoch 14/15\n",
            "612/612 [==============================] - 1s 2ms/step - loss: 0.0012 - root_mean_squared_error: 0.0348 - mean_absolute_error: 0.0164 - val_loss: 0.0049 - val_root_mean_squared_error: 0.0701 - val_mean_absolute_error: 0.0537\n",
            "Epoch 15/15\n",
            "612/612 [==============================] - 1s 2ms/step - loss: 0.0072 - root_mean_squared_error: 0.0846 - mean_absolute_error: 0.0326 - val_loss: 0.0117 - val_root_mean_squared_error: 0.1082 - val_mean_absolute_error: 0.0902\n"
          ],
          "name": "stdout"
        }
      ]
    }
  ]
}